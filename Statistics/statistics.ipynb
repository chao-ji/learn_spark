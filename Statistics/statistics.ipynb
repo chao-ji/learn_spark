{
 "cells": [
  {
   "cell_type": "markdown",
   "metadata": {},
   "source": [
    "**Compute basic statistics using spark rdd**"
   ]
  },
  {
   "cell_type": "code",
   "execution_count": 1,
   "metadata": {
    "collapsed": false
   },
   "outputs": [
    {
     "name": "stdout",
     "output_type": "stream",
     "text": [
      "Generating list of 100 random numbers...\n",
      "Mean: -3.330000\n",
      "Stv: 56.963581\n"
     ]
    }
   ],
   "source": [
    "import numpy as np\n",
    "from pyspark import SparkContext\n",
    "from scipy.spatial.distance import cosine\n",
    "\n",
    "sc = SparkContext(\"local\", \"pyspark\")\n",
    "\n",
    "print \"Generating list of 100 random numbers...\"\n",
    "data = np.random.randint(-100, 100, size=100).astype(\"float\")\n",
    "print \"Mean: %f\" % data.mean()\n",
    "print \"Stv: %f\" % data.std(ddof=1)"
   ]
  },
  {
   "cell_type": "code",
   "execution_count": 2,
   "metadata": {
    "collapsed": false
   },
   "outputs": [
    {
     "name": "stdout",
     "output_type": "stream",
     "text": [
      "Compute mean using rdd.map().reduce(): -3.330000\n",
      "Compute mean using rdd.aggregate(): -3.330000\n",
      "Compute mean using rdd.mapPartitions().reduce(): -3.330000\n"
     ]
    }
   ],
   "source": [
    "rdd = sc.parallelize(data)\n",
    "mean1 = rdd.map(lambda x: (x, 1.)).reduce(lambda x, y: (x[0] + y[0], x[1] + y[1]))\n",
    "mean1 = mean1[0] / mean1[1]\n",
    "print \"Compute mean using rdd.map().reduce(): %f\" % mean1\n",
    "mean2 = rdd.aggregate((0., 0.), lambda acc, val: (acc[0] + val, acc[1] + 1), lambda acc1, acc2: (acc1[0] + acc2[0], acc1[1] + acc2[1]))\n",
    "mean2 = mean2[0] / mean2[1]\n",
    "print \"Compute mean using rdd.aggregate(): %f\" % mean2\n",
    "\n",
    "def combine(nums):\n",
    "    sumCount = [0., 0.]\n",
    "    for num in nums:\n",
    "        sumCount[0] += num\n",
    "        sumCount[1] += 1\n",
    "    return [sumCount]\n",
    "mean3 = rdd.mapPartitions(combine, preservesPartitioning=True).reduce(lambda x, y: (x[0] + y[0], x[1] + y[1]))\n",
    "mean3 = mean3[0] / mean3[1] \n",
    "print \"Compute mean using rdd.mapPartitions().reduce(): %f\" % mean3"
   ]
  },
  {
   "cell_type": "code",
   "execution_count": 3,
   "metadata": {
    "collapsed": false
   },
   "outputs": [
    {
     "name": "stdout",
     "output_type": "stream",
     "text": [
      "Compute std using rdd.map.reduce(): 56.963581\n"
     ]
    }
   ],
   "source": [
    "mean = mean1\n",
    "result = rdd.map(lambda x: ((x - mean)**2, 1.)).reduce(lambda x, y: (x[0] + y[0], x[1] + y[1]))\n",
    "std = np.sqrt(result[0] / (result[1] - 1))\n",
    "print \"Compute std using rdd.map.reduce(): %f\" % std"
   ]
  },
  {
   "cell_type": "code",
   "execution_count": 4,
   "metadata": {
    "collapsed": false
   },
   "outputs": [
    {
     "name": "stdout",
     "output_type": "stream",
     "text": [
      "\n",
      "Generating two lists of 100 random numbers...\n",
      "Cosine similarity: 0.713089\n",
      "Compute cosine similarity: 0.713089\n"
     ]
    }
   ],
   "source": [
    "print \"\\nGenerating two lists of 100 random numbers...\"\n",
    "v1 = np.random.rand(100)\n",
    "v2 = np.random.rand(100)\n",
    "rdd1 = sc.parallelize(v1)\n",
    "rdd2 = sc.parallelize(v2)\n",
    "\n",
    "print \"Cosine similarity: %f\" % (1 - cosine(v1, v2))\n",
    "result = rdd1.zip(rdd2).aggregate((0., 0., 0.), lambda acc, val: (acc[0] + val[0] * val[1], acc[1] + val[0]**2, acc[2] + val[1]**2), lambda acc1, acc2: (acc1[0] + acc2[0], acc1[1] + acc2[1], acc1[2] + acc2[2]))\n",
    "\n",
    "result = result[0] / (np.sqrt(result[1] * result[2]))\n",
    "print \"Compute cosine similarity: %f\" % result"
   ]
  }
 ],
 "metadata": {
  "kernelspec": {
   "display_name": "Python 2",
   "language": "python",
   "name": "python2"
  },
  "language_info": {
   "codemirror_mode": {
    "name": "ipython",
    "version": 2
   },
   "file_extension": ".py",
   "mimetype": "text/x-python",
   "name": "python",
   "nbconvert_exporter": "python",
   "pygments_lexer": "ipython2",
   "version": "2.7.12"
  }
 },
 "nbformat": 4,
 "nbformat_minor": 1
}
