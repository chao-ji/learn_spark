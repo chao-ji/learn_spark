{
 "cells": [
  {
   "cell_type": "code",
   "execution_count": 1,
   "metadata": {
    "collapsed": false
   },
   "outputs": [
    {
     "data": {
      "text/plain": [
       "[(u'a', 0.2), (u'b', 0.2), (u'c', 0.2), (u'e', 0.2), (u'd', 0.2)]"
      ]
     },
     "execution_count": 1,
     "metadata": {},
     "output_type": "execute_result"
    }
   ],
   "source": [
    "from pyspark import SparkContext\n",
    "\n",
    "sc = SparkContext(\"local\", \"pyspark\")\n",
    "links = sc.textFile(\"links\").map(lambda x: x.split(\"\\t\")).map(lambda x: (x[0], x[1:])).partitionBy(2).persist()\n",
    "ranks = sc.textFile(\"ranks\").map(lambda x: x.split(\"\\t\")).map(lambda x: (x[0], float(x[1])))\n",
    "\n",
    "ranks.collect()"
   ]
  },
  {
   "cell_type": "code",
   "execution_count": 2,
   "metadata": {
    "collapsed": false
   },
   "outputs": [
    {
     "data": {
      "text/plain": [
       "[(u'a', [u'b', u'd']),\n",
       " (u'c', [u'd']),\n",
       " (u'e', [u'a', u'b', u'c']),\n",
       " (u'b', [u'c', u'e']),\n",
       " (u'd', [u'e'])]"
      ]
     },
     "execution_count": 2,
     "metadata": {},
     "output_type": "execute_result"
    }
   ],
   "source": [
    "links.collect()"
   ]
  },
  {
   "cell_type": "markdown",
   "metadata": {},
   "source": [
    "All pages have the same rank (0.2)"
   ]
  },
  {
   "cell_type": "code",
   "execution_count": 4,
   "metadata": {
    "collapsed": false
   },
   "outputs": [
    {
     "data": {
      "text/plain": [
       "[(u'd', 0.23678682235503043),\n",
       " (u'a', 0.10530158257403283),\n",
       " (u'c', 0.18422267372257844),\n",
       " (u'e', 0.3157849425189383),\n",
       " (u'b', 0.1579039788294203)]"
      ]
     },
     "execution_count": 4,
     "metadata": {},
     "output_type": "execute_result"
    }
   ],
   "source": [
    "MAX = 20\n",
    "\n",
    "for c in range(MAX): \n",
    "    contributions = links.join(ranks).flatMap(lambda x: [(i, x[1][1]/len(x[1][0])) for i in x[1][0]])\n",
    "    ranks = contributions.reduceByKey(lambda x, y: x + y)\n",
    "\n",
    "ranks.collect()"
   ]
  },
  {
   "cell_type": "markdown",
   "metadata": {},
   "source": [
    "The pages' ranks converge after 20 iterations."
   ]
  },
  {
   "cell_type": "code",
   "execution_count": null,
   "metadata": {
    "collapsed": true
   },
   "outputs": [],
   "source": []
  }
 ],
 "metadata": {
  "kernelspec": {
   "display_name": "Python 2",
   "language": "python",
   "name": "python2"
  },
  "language_info": {
   "codemirror_mode": {
    "name": "ipython",
    "version": 2
   },
   "file_extension": ".py",
   "mimetype": "text/x-python",
   "name": "python",
   "nbconvert_exporter": "python",
   "pygments_lexer": "ipython2",
   "version": "2.7.12"
  }
 },
 "nbformat": 4,
 "nbformat_minor": 1
}
