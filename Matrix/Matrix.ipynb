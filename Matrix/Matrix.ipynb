{
 "cells": [
  {
   "cell_type": "code",
   "execution_count": 1,
   "metadata": {
    "collapsed": true
   },
   "outputs": [],
   "source": [
    "import numpy as np\n",
    "from pyspark import SparkContext\n",
    "\n",
    "sc = SparkContext(\"local\", \"pyspark\")"
   ]
  },
  {
   "cell_type": "markdown",
   "metadata": {},
   "source": [
    "Implementing Matrix Multiplication using Spark RDD's **transformation** and **action** operations\n",
    "\n",
    "Initializing two random matricies of dimensions (3, 3) and (3, 5)"
   ]
  },
  {
   "cell_type": "code",
   "execution_count": 2,
   "metadata": {
    "collapsed": true
   },
   "outputs": [],
   "source": [
    "A = np.random.rand(3, 3)\n",
    "B = np.random.rand(3, 5)"
   ]
  },
  {
   "cell_type": "code",
   "execution_count": 3,
   "metadata": {
    "collapsed": false
   },
   "outputs": [
    {
     "data": {
      "text/plain": [
       "array([[ 0.32757648,  0.24234605,  0.27544155],\n",
       "       [ 0.3635764 ,  0.26453351,  0.57541669],\n",
       "       [ 0.99410419,  0.76877575,  0.0465294 ]])"
      ]
     },
     "execution_count": 3,
     "metadata": {},
     "output_type": "execute_result"
    }
   ],
   "source": [
    "A"
   ]
  },
  {
   "cell_type": "code",
   "execution_count": 4,
   "metadata": {
    "collapsed": false
   },
   "outputs": [
    {
     "data": {
      "text/plain": [
       "array([[ 0.57506109,  0.2772601 ,  0.21213679,  0.65079861,  0.68497444],\n",
       "       [ 0.34860906,  0.99456752,  0.04617413,  0.22087513,  0.80705158],\n",
       "       [ 0.84801544,  0.20709871,  0.16276561,  0.26294889,  0.22046303]])"
      ]
     },
     "execution_count": 4,
     "metadata": {},
     "output_type": "execute_result"
    }
   ],
   "source": [
    "B"
   ]
  },
  {
   "cell_type": "markdown",
   "metadata": {},
   "source": [
    "Their product is"
   ]
  },
  {
   "cell_type": "code",
   "execution_count": 5,
   "metadata": {
    "collapsed": false
   },
   "outputs": [
    {
     "data": {
      "text/plain": [
       "array([[ 0.50643921,  0.38889699,  0.12551355,  0.33914159,  0.48069196],\n",
       "       [ 0.78925966,  0.48306972,  0.18300058,  0.44634907,  0.58939084],\n",
       "       [ 0.87913047,  1.049861  ,  0.25395701,  0.82899992,  1.31163566]])"
      ]
     },
     "execution_count": 5,
     "metadata": {},
     "output_type": "execute_result"
    }
   ],
   "source": [
    "A.dot(B)"
   ]
  },
  {
   "cell_type": "markdown",
   "metadata": {},
   "source": [
    "Turn them into Spark RDD:"
   ]
  },
  {
   "cell_type": "code",
   "execution_count": 6,
   "metadata": {
    "collapsed": true
   },
   "outputs": [],
   "source": [
    "rddA = sc.parallelize(list(enumerate(A.T)))\n",
    "rddA = rddA.flatMapValues(lambda x: list(enumerate(x)))\n",
    "\n",
    "rddB = sc.parallelize(list(enumerate(B)))\n",
    "rddB = rddB.flatMapValues(lambda x: list(enumerate(x)))"
   ]
  },
  {
   "cell_type": "markdown",
   "metadata": {},
   "source": [
    "This is what they look like:"
   ]
  },
  {
   "cell_type": "code",
   "execution_count": 7,
   "metadata": {
    "collapsed": false
   },
   "outputs": [
    {
     "data": {
      "text/plain": [
       "[(0, (0, 0.32757648142963669)),\n",
       " (0, (1, 0.36357640461103735)),\n",
       " (0, (2, 0.99410418764654573)),\n",
       " (1, (0, 0.24234605339372484)),\n",
       " (1, (1, 0.26453351012894)),\n",
       " (1, (2, 0.7687757540988811)),\n",
       " (2, (0, 0.27544155171434204)),\n",
       " (2, (1, 0.57541668702403537)),\n",
       " (2, (2, 0.046529398094665275))]"
      ]
     },
     "execution_count": 7,
     "metadata": {},
     "output_type": "execute_result"
    }
   ],
   "source": [
    "rddA.collect()"
   ]
  },
  {
   "cell_type": "code",
   "execution_count": 8,
   "metadata": {
    "collapsed": false
   },
   "outputs": [
    {
     "data": {
      "text/plain": [
       "[(0, (0, 0.57506108811795209)),\n",
       " (0, (1, 0.27726010273623725)),\n",
       " (0, (2, 0.21213678828319382)),\n",
       " (0, (3, 0.65079861025993913)),\n",
       " (0, (4, 0.68497443743774711)),\n",
       " (1, (0, 0.34860905609986237)),\n",
       " (1, (1, 0.99456751546238809)),\n",
       " (1, (2, 0.046174134233585185)),\n",
       " (1, (3, 0.22087512903438833)),\n",
       " (1, (4, 0.8070515829112388)),\n",
       " (2, (0, 0.84801544269731977)),\n",
       " (2, (1, 0.20709871229581445)),\n",
       " (2, (2, 0.16276560654208061)),\n",
       " (2, (3, 0.26294889424979384)),\n",
       " (2, (4, 0.22046302721617617))]"
      ]
     },
     "execution_count": 8,
     "metadata": {},
     "output_type": "execute_result"
    }
   ],
   "source": [
    "rddB.collect()"
   ]
  },
  {
   "cell_type": "markdown",
   "metadata": {},
   "source": [
    "Join them on A's column index (or B's row index), and do dot-product on A's row vectors with B's column vectors:"
   ]
  },
  {
   "cell_type": "code",
   "execution_count": 9,
   "metadata": {
    "collapsed": false
   },
   "outputs": [
    {
     "data": {
      "text/plain": [
       "[((1, 3), 0.44634907361366755),\n",
       " ((0, 4), 0.48069196040086404),\n",
       " ((1, 1), 0.4830697221366137),\n",
       " ((2, 0), 0.87913047396319355),\n",
       " ((0, 0), 0.50643920619016469),\n",
       " ((2, 2), 0.25395701015441519),\n",
       " ((2, 4), 1.3116356578954811),\n",
       " ((0, 2), 0.12551355311965062),\n",
       " ((0, 1), 0.38889699177386955),\n",
       " ((1, 2), 0.18300058265361327),\n",
       " ((2, 1), 1.0498609993285575),\n",
       " ((2, 3), 0.82899992143815804),\n",
       " ((1, 4), 0.5893908360287331),\n",
       " ((0, 3), 0.33914158613629569),\n",
       " ((1, 0), 0.78925965670458154)]"
      ]
     },
     "execution_count": 9,
     "metadata": {},
     "output_type": "execute_result"
    }
   ],
   "source": [
    "C = rddA.join(rddB).map(lambda x: ((x[1][0][0], x[1][1][0]),\n",
    "                                   x[1][0][1] * x[1][1][1])).reduceByKey(lambda x, y: x + y)\n",
    "\n",
    "C.collect()"
   ]
  },
  {
   "cell_type": "markdown",
   "metadata": {},
   "source": [
    "Finally, clean up the result **C**:"
   ]
  },
  {
   "cell_type": "code",
   "execution_count": 10,
   "metadata": {
    "collapsed": false
   },
   "outputs": [],
   "source": [
    "C = C.map(lambda x: (x[0][0],(x[0][1], x[1]))).groupByKey()\n",
    "C = C.mapValues(list).mapValues(lambda x: sorted(x, key=lambda y: y[0]))\n",
    "C = C.mapValues(lambda x: zip(*x)[1])\n",
    "\n",
    "C = np.array(C.sortByKey().map(lambda x: np.array(x[1])).collect())"
   ]
  },
  {
   "cell_type": "code",
   "execution_count": 11,
   "metadata": {
    "collapsed": false
   },
   "outputs": [
    {
     "data": {
      "text/plain": [
       "array([[ 0.50643921,  0.38889699,  0.12551355,  0.33914159,  0.48069196],\n",
       "       [ 0.78925966,  0.48306972,  0.18300058,  0.44634907,  0.58939084],\n",
       "       [ 0.87913047,  1.049861  ,  0.25395701,  0.82899992,  1.31163566]])"
      ]
     },
     "execution_count": 11,
     "metadata": {},
     "output_type": "execute_result"
    }
   ],
   "source": [
    "C"
   ]
  },
  {
   "cell_type": "markdown",
   "metadata": {},
   "source": [
    "which equals A.dot(B):"
   ]
  },
  {
   "cell_type": "code",
   "execution_count": 12,
   "metadata": {
    "collapsed": false
   },
   "outputs": [
    {
     "data": {
      "text/plain": [
       "array([[ 0.50643921,  0.38889699,  0.12551355,  0.33914159,  0.48069196],\n",
       "       [ 0.78925966,  0.48306972,  0.18300058,  0.44634907,  0.58939084],\n",
       "       [ 0.87913047,  1.049861  ,  0.25395701,  0.82899992,  1.31163566]])"
      ]
     },
     "execution_count": 12,
     "metadata": {},
     "output_type": "execute_result"
    }
   ],
   "source": [
    "A.dot(B)"
   ]
  },
  {
   "cell_type": "code",
   "execution_count": null,
   "metadata": {
    "collapsed": true
   },
   "outputs": [],
   "source": []
  }
 ],
 "metadata": {
  "kernelspec": {
   "display_name": "Python 2",
   "language": "python",
   "name": "python2"
  },
  "language_info": {
   "codemirror_mode": {
    "name": "ipython",
    "version": 2
   },
   "file_extension": ".py",
   "mimetype": "text/x-python",
   "name": "python",
   "nbconvert_exporter": "python",
   "pygments_lexer": "ipython2",
   "version": "2.7.12"
  }
 },
 "nbformat": 4,
 "nbformat_minor": 1
}
