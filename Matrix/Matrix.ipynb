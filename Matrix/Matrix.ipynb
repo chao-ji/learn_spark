{
 "cells": [
  {
   "cell_type": "code",
   "execution_count": 1,
   "metadata": {
    "collapsed": true
   },
   "outputs": [],
   "source": [
    "import numpy as np\n",
    "from pyspark import SparkContext\n",
    "\n",
    "sc = SparkContext(\"local\", \"pyspark\")"
   ]
  },
  {
   "cell_type": "markdown",
   "metadata": {},
   "source": [
    "Implementing Matrix Multiplication using Spark RDD's **transformation** and **action** operations\n",
    "\n",
    "Initializing two random matricies of dimensions (2, 3) and (3, 2)"
   ]
  },
  {
   "cell_type": "code",
   "execution_count": 2,
   "metadata": {
    "collapsed": true
   },
   "outputs": [],
   "source": [
    "A = np.random.rand(2, 3)\n",
    "B = np.random.rand(3, 2)"
   ]
  },
  {
   "cell_type": "code",
   "execution_count": 3,
   "metadata": {
    "collapsed": false
   },
   "outputs": [
    {
     "data": {
      "text/plain": [
       "array([[ 0.17899335,  0.80960283,  0.67597551],\n",
       "       [ 0.66028443,  0.5952246 ,  0.32610798]])"
      ]
     },
     "execution_count": 3,
     "metadata": {},
     "output_type": "execute_result"
    }
   ],
   "source": [
    "A"
   ]
  },
  {
   "cell_type": "code",
   "execution_count": 4,
   "metadata": {
    "collapsed": false
   },
   "outputs": [
    {
     "data": {
      "text/plain": [
       "array([[ 0.39127727,  0.06911717],\n",
       "       [ 0.87711723,  0.70815121],\n",
       "       [ 0.91027243,  0.8023777 ]])"
      ]
     },
     "execution_count": 4,
     "metadata": {},
     "output_type": "execute_result"
    }
   ],
   "source": [
    "B"
   ]
  },
  {
   "cell_type": "markdown",
   "metadata": {},
   "source": [
    "Their product is"
   ]
  },
  {
   "cell_type": "code",
   "execution_count": 5,
   "metadata": {
    "collapsed": false
   },
   "outputs": [
    {
     "data": {
      "text/plain": [
       "array([[ 1.39547449,  1.12808041],\n",
       "       [ 1.07728314,  0.72880779]])"
      ]
     },
     "execution_count": 5,
     "metadata": {},
     "output_type": "execute_result"
    }
   ],
   "source": [
    "A.dot(B)"
   ]
  },
  {
   "cell_type": "markdown",
   "metadata": {},
   "source": [
    "Turn them into Spark RDD:"
   ]
  },
  {
   "cell_type": "code",
   "execution_count": 6,
   "metadata": {
    "collapsed": true
   },
   "outputs": [],
   "source": [
    "rddA = sc.parallelize(list(enumerate(A.T)))\n",
    "rddA = rddA.flatMapValues(lambda x: list(enumerate(x)))\n",
    "\n",
    "rddB = sc.parallelize(list(enumerate(B)))\n",
    "rddB = rddB.flatMapValues(lambda x: list(enumerate(x)))"
   ]
  },
  {
   "cell_type": "markdown",
   "metadata": {},
   "source": [
    "This is what they look like:"
   ]
  },
  {
   "cell_type": "code",
   "execution_count": 7,
   "metadata": {
    "collapsed": false
   },
   "outputs": [
    {
     "data": {
      "text/plain": [
       "[(0, (0, 0.17899334850433291)),\n",
       " (0, (1, 0.66028443390786606)),\n",
       " (1, (0, 0.80960283194218141)),\n",
       " (1, (1, 0.59522459696916552)),\n",
       " (2, (0, 0.67597551027170466)),\n",
       " (2, (1, 0.32610798183646017))]"
      ]
     },
     "execution_count": 7,
     "metadata": {},
     "output_type": "execute_result"
    }
   ],
   "source": [
    "rddA.collect()"
   ]
  },
  {
   "cell_type": "code",
   "execution_count": 8,
   "metadata": {
    "collapsed": false
   },
   "outputs": [
    {
     "data": {
      "text/plain": [
       "[(0, (0, 0.39127726636455873)),\n",
       " (0, (1, 0.069117174413648286)),\n",
       " (1, (0, 0.87711723433813138)),\n",
       " (1, (1, 0.70815121072590004)),\n",
       " (2, (0, 0.91027242758994387)),\n",
       " (2, (1, 0.80237769866001274))]"
      ]
     },
     "execution_count": 8,
     "metadata": {},
     "output_type": "execute_result"
    }
   ],
   "source": [
    "rddB.collect()"
   ]
  },
  {
   "cell_type": "markdown",
   "metadata": {},
   "source": [
    "Join them on A's column index (or B's row index), and do dot-product on A's row vectors with B's column vectors:"
   ]
  },
  {
   "cell_type": "code",
   "execution_count": 9,
   "metadata": {
    "collapsed": false
   },
   "outputs": [
    {
     "data": {
      "text/plain": [
       "[((0, 0), 1.3954744936920349),\n",
       " ((1, 1), 0.72880778535917756),\n",
       " ((0, 1), 1.1280804144167682),\n",
       " ((1, 0), 1.0772831449088951)]"
      ]
     },
     "execution_count": 9,
     "metadata": {},
     "output_type": "execute_result"
    }
   ],
   "source": [
    "C = rddA.join(rddB).map(lambda x: ((x[1][0][0], x[1][1][0]),\n",
    "                                   x[1][0][1] * x[1][1][1])).reduceByKey(lambda x, y: x + y)\n",
    "\n",
    "C.collect()"
   ]
  },
  {
   "cell_type": "markdown",
   "metadata": {},
   "source": [
    "Finally, clean up the result **C**:"
   ]
  },
  {
   "cell_type": "code",
   "execution_count": 10,
   "metadata": {
    "collapsed": false
   },
   "outputs": [],
   "source": [
    "C = C.map(lambda x: (x[0][0],(x[0][1], x[1]))).groupByKey()\n",
    "C = C.mapValues(list).mapValues(lambda x: sorted(x, key=lambda y: y[0]))\n",
    "C = C.mapValues(lambda x: zip(*x)[1])\n",
    "\n",
    "C = np.array(C.sortByKey().map(lambda x: np.array(x[1])).collect())"
   ]
  },
  {
   "cell_type": "code",
   "execution_count": 11,
   "metadata": {
    "collapsed": false
   },
   "outputs": [
    {
     "data": {
      "text/plain": [
       "array([[ 1.39547449,  1.12808041],\n",
       "       [ 1.07728314,  0.72880779]])"
      ]
     },
     "execution_count": 11,
     "metadata": {},
     "output_type": "execute_result"
    }
   ],
   "source": [
    "C"
   ]
  },
  {
   "cell_type": "markdown",
   "metadata": {},
   "source": [
    "which equals A.dot(B):"
   ]
  },
  {
   "cell_type": "code",
   "execution_count": 12,
   "metadata": {
    "collapsed": false
   },
   "outputs": [
    {
     "data": {
      "text/plain": [
       "array([[ 1.39547449,  1.12808041],\n",
       "       [ 1.07728314,  0.72880779]])"
      ]
     },
     "execution_count": 12,
     "metadata": {},
     "output_type": "execute_result"
    }
   ],
   "source": [
    "A.dot(B)"
   ]
  },
  {
   "cell_type": "markdown",
   "metadata": {
    "collapsed": true
   },
   "source": [
    "<img src=\"MatrixMulSparkRDD1.png\">"
   ]
  },
  {
   "cell_type": "markdown",
   "metadata": {},
   "source": [
    "<img src=\"MatrixMulSparkRDD2.png\">"
   ]
  },
  {
   "cell_type": "markdown",
   "metadata": {},
   "source": [
    "<img src=\"MatrixMulSparkRDD3.png\">"
   ]
  },
  {
   "cell_type": "markdown",
   "metadata": {},
   "source": [
    "<img src=\"MatrixMulSparkRDD4.png\">"
   ]
  },
  {
   "cell_type": "code",
   "execution_count": null,
   "metadata": {
    "collapsed": true
   },
   "outputs": [],
   "source": []
  }
 ],
 "metadata": {
  "kernelspec": {
   "display_name": "Python 2",
   "language": "python",
   "name": "python2"
  },
  "language_info": {
   "codemirror_mode": {
    "name": "ipython",
    "version": 2
   },
   "file_extension": ".py",
   "mimetype": "text/x-python",
   "name": "python",
   "nbconvert_exporter": "python",
   "pygments_lexer": "ipython2",
   "version": "2.7.12"
  }
 },
 "nbformat": 4,
 "nbformat_minor": 1
}
