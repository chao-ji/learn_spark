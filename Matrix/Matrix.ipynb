{
 "cells": [
  {
   "cell_type": "code",
   "execution_count": 1,
   "metadata": {
    "collapsed": true
   },
   "outputs": [],
   "source": [
    "import numpy as np\n",
    "from pyspark import SparkContext\n",
    "\n",
    "sc = SparkContext(\"local\", \"pyspark\")"
   ]
  },
  {
   "cell_type": "markdown",
   "metadata": {},
   "source": [
    "Implementing Matrix Multiplication using Spark RDD's **transformation** and **action** operations\n",
    "\n",
    "Initializing two random matricies of dimensions (2, 3) and (3, 2)"
   ]
  },
  {
   "cell_type": "code",
   "execution_count": 2,
   "metadata": {
    "collapsed": true
   },
   "outputs": [],
   "source": [
    "A = np.random.rand(2, 3)\n",
    "B = np.random.rand(3, 2)"
   ]
  },
  {
   "cell_type": "code",
   "execution_count": 3,
   "metadata": {
    "collapsed": false
   },
   "outputs": [
    {
     "data": {
      "text/plain": [
       "array([[ 0.39156228,  0.72451013,  0.88690269],\n",
       "       [ 0.89446377,  0.63683496,  0.35296409]])"
      ]
     },
     "execution_count": 3,
     "metadata": {},
     "output_type": "execute_result"
    }
   ],
   "source": [
    "A"
   ]
  },
  {
   "cell_type": "code",
   "execution_count": 4,
   "metadata": {
    "collapsed": false
   },
   "outputs": [
    {
     "data": {
      "text/plain": [
       "array([[ 0.58602112,  0.32946682],\n",
       "       [ 0.26470845,  0.18467109],\n",
       "       [ 0.72489533,  0.740035  ]])"
      ]
     },
     "execution_count": 4,
     "metadata": {},
     "output_type": "execute_result"
    }
   ],
   "source": [
    "B"
   ]
  },
  {
   "cell_type": "markdown",
   "metadata": {},
   "source": [
    "Their product is"
   ]
  },
  {
   "cell_type": "code",
   "execution_count": 5,
   "metadata": {
    "collapsed": false
   },
   "outputs": [
    {
     "data": {
      "text/plain": [
       "array([[ 1.06415933,  0.91914188],\n",
       "       [ 0.94861227,  0.67350692]])"
      ]
     },
     "execution_count": 5,
     "metadata": {},
     "output_type": "execute_result"
    }
   ],
   "source": [
    "A.dot(B)"
   ]
  },
  {
   "cell_type": "markdown",
   "metadata": {},
   "source": [
    "Turn them into Spark RDD:"
   ]
  },
  {
   "cell_type": "code",
   "execution_count": 6,
   "metadata": {
    "collapsed": true
   },
   "outputs": [],
   "source": [
    "rddA = sc.parallelize(list(enumerate(A.T)))\n",
    "rddA = rddA.flatMapValues(lambda x: list(enumerate(x)))\n",
    "\n",
    "rddB = sc.parallelize(list(enumerate(B)))\n",
    "rddB = rddB.flatMapValues(lambda x: list(enumerate(x)))"
   ]
  },
  {
   "cell_type": "markdown",
   "metadata": {},
   "source": [
    "This is what they look like:"
   ]
  },
  {
   "cell_type": "code",
   "execution_count": 7,
   "metadata": {
    "collapsed": false
   },
   "outputs": [
    {
     "data": {
      "text/plain": [
       "[(0, (0, 0.3915622771711913)),\n",
       " (0, (1, 0.89446376665148264)),\n",
       " (1, (0, 0.72451013433657874)),\n",
       " (1, (1, 0.63683496124382855)),\n",
       " (2, (0, 0.88690268501991776)),\n",
       " (2, (1, 0.35296408961292414))]"
      ]
     },
     "execution_count": 7,
     "metadata": {},
     "output_type": "execute_result"
    }
   ],
   "source": [
    "rddA.collect()"
   ]
  },
  {
   "cell_type": "code",
   "execution_count": 8,
   "metadata": {
    "collapsed": false
   },
   "outputs": [
    {
     "data": {
      "text/plain": [
       "[(0, (0, 0.5860211224614541)),\n",
       " (0, (1, 0.32946681974700209)),\n",
       " (1, (0, 0.26470844611501321)),\n",
       " (1, (1, 0.18467109202589937)),\n",
       " (2, (0, 0.72489532702875747)),\n",
       " (2, (1, 0.74003499929126915))]"
      ]
     },
     "execution_count": 8,
     "metadata": {},
     "output_type": "execute_result"
    }
   ],
   "source": [
    "rddB.collect()"
   ]
  },
  {
   "cell_type": "markdown",
   "metadata": {},
   "source": [
    "Join them on A's column index (or B's row index), and do dot-product on A's row vectors with B's column vectors:"
   ]
  },
  {
   "cell_type": "code",
   "execution_count": 9,
   "metadata": {
    "collapsed": false
   },
   "outputs": [
    {
     "data": {
      "text/plain": [
       "[((0, 0), 1.0641593289364362),\n",
       " ((1, 1), 0.6735069201173014),\n",
       " ((0, 1), 0.9191418837643931),\n",
       " ((1, 0), 0.94861227272613879)]"
      ]
     },
     "execution_count": 9,
     "metadata": {},
     "output_type": "execute_result"
    }
   ],
   "source": [
    "C = rddA.join(rddB).map(lambda x: ((x[1][0][0], x[1][1][0]),\n",
    "                                   x[1][0][1] * x[1][1][1])).reduceByKey(lambda x, y: x + y)\n",
    "\n",
    "C.collect()"
   ]
  },
  {
   "cell_type": "markdown",
   "metadata": {},
   "source": [
    "Finally, clean up the result **C**:"
   ]
  },
  {
   "cell_type": "code",
   "execution_count": 10,
   "metadata": {
    "collapsed": false
   },
   "outputs": [],
   "source": [
    "C = C.map(lambda x: (x[0][0],(x[0][1], x[1]))).groupByKey()\n",
    "C = C.mapValues(list).mapValues(lambda x: sorted(x, key=lambda y: y[0]))\n",
    "C = C.mapValues(lambda x: zip(*x)[1])\n",
    "\n",
    "C = np.array(C.sortByKey().map(lambda x: np.array(x[1])).collect())"
   ]
  },
  {
   "cell_type": "code",
   "execution_count": 11,
   "metadata": {
    "collapsed": false
   },
   "outputs": [
    {
     "data": {
      "text/plain": [
       "array([[ 1.06415933,  0.91914188],\n",
       "       [ 0.94861227,  0.67350692]])"
      ]
     },
     "execution_count": 11,
     "metadata": {},
     "output_type": "execute_result"
    }
   ],
   "source": [
    "C"
   ]
  },
  {
   "cell_type": "markdown",
   "metadata": {},
   "source": [
    "which equals A.dot(B):"
   ]
  },
  {
   "cell_type": "code",
   "execution_count": 12,
   "metadata": {
    "collapsed": false
   },
   "outputs": [
    {
     "data": {
      "text/plain": [
       "array([[ 1.06415933,  0.91914188],\n",
       "       [ 0.94861227,  0.67350692]])"
      ]
     },
     "execution_count": 12,
     "metadata": {},
     "output_type": "execute_result"
    }
   ],
   "source": [
    "A.dot(B)"
   ]
  },
  {
   "cell_type": "markdown",
   "metadata": {
    "collapsed": true
   },
   "source": [
    "<img src=\"MatrixMulSparkRDD1.png\">"
   ]
  },
  {
   "cell_type": "markdown",
   "metadata": {},
   "source": [
    "<img src=\"MatrixMulSparkRDD2.png\">"
   ]
  },
  {
   "cell_type": "markdown",
   "metadata": {},
   "source": [
    "<img src=\"MatrixMulSparkRDD3.png\">"
   ]
  },
  {
   "cell_type": "markdown",
   "metadata": {},
   "source": [
    "<img src=\"MatrixMulSparkRDD4.png\">"
   ]
  },
  {
   "cell_type": "code",
   "execution_count": null,
   "metadata": {
    "collapsed": true
   },
   "outputs": [],
   "source": []
  }
 ],
 "metadata": {
  "kernelspec": {
   "display_name": "Python 2",
   "language": "python",
   "name": "python2"
  },
  "language_info": {
   "codemirror_mode": {
    "name": "ipython",
    "version": 2
   },
   "file_extension": ".py",
   "mimetype": "text/x-python",
   "name": "python",
   "nbconvert_exporter": "python",
   "pygments_lexer": "ipython2",
   "version": "2.7.12"
  }
 },
 "nbformat": 4,
 "nbformat_minor": 1
}
