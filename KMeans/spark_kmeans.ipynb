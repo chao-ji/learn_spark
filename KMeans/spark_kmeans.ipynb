{
 "cells": [
  {
   "cell_type": "code",
   "execution_count": 1,
   "metadata": {
    "collapsed": true
   },
   "outputs": [],
   "source": [
    "from pyspark import SparkContext\n",
    "import numpy as np\n",
    "\n",
    "sc = SparkContext('local', 'pyspark')\n",
    "rawdata = sc.textFile('file').map(lambda x: x.split('\\t')).map(lambda x: map(float, x))\n",
    "# [data_id, ctrd_id, x1, x2]\n",
    "\n",
    "N = 100    # Number of data ponits    \n",
    "D = 2      # Dimensions\n",
    "MAX = 10   # Max number of iterations"
   ]
  },
  {
   "cell_type": "code",
   "execution_count": 2,
   "metadata": {
    "collapsed": false
   },
   "outputs": [
    {
     "name": "stdout",
     "output_type": "stream",
     "text": [
      "Iteration = 0\n",
      "Num of centroid assignment updates = 68\n",
      "Iteration = 1\n",
      "Num of centroid assignment updates = 23\n",
      "Iteration = 2\n",
      "Num of centroid assignment updates = 5\n",
      "Iteration = 3\n",
      "Num of centroid assignment updates = 2\n",
      "Iteration = 4\n",
      "Num of centroid assignment updates = 0\n",
      "No updates necessary...\n",
      "Finished!\n"
     ]
    }
   ],
   "source": [
    "for c in range(MAX):\n",
    "    print 'Iteration = %d' % c\n",
    "    data = rawdata.collect()\n",
    "    data = zip(*data)\n",
    "    assnmt1 = dict(zip(data[0], data[1]))\n",
    "\n",
    "    ## Update centroid\n",
    "    dataCentroidKey = rawdata.map(lambda x: [x[1], x + [1.0]])\n",
    "    # [ctrd_id, [data_id, ctrd_id, x1, x2, 1]]\n",
    "\n",
    "    centroid = dataCentroidKey.reduceByKey(lambda x, y: np.array(x) + np.array(y))\n",
    "    # [ctrd_id, [~, ~, sum_x1, sum_x2, N]]\n",
    "\n",
    "    centroid = centroid.mapValues(lambda x: list(x[2 : 2 + D] / x[2 + D]))\n",
    "    # [ctrd_id, [sum_x1/N, sum_x2/N]]\n",
    "\n",
    "    ## Assign data\n",
    "    dataIdKey = rawdata.map(lambda x: [x[0], x])\n",
    "    # [data_id, [data_id, ctrd_id, x1, x2]]\n",
    "\n",
    "    centroid = centroid.map(lambda x: [x[0]] + x[1])\n",
    "    # [ctrd_id, sum_x1/N, sum_x2/N]\n",
    "\n",
    "    cartesian = centroid.flatMap(lambda x: [[float(i), x] for i in range(N)])\n",
    "    # [i, [ctrd_id, mean_x1, mean_x2]]\ti in range(N)\n",
    "    \n",
    "    grouped = dataIdKey.cogroup(cartesian)\n",
    "    # (data_id,\n",
    "    #    (\n",
    "    #       iterable([data_id, ctrd_id, x1, x2]),\n",
    "    #       iterable([ctrd_id, mean_x1, mean_x2]...)\n",
    "    #)\n",
    "    # )\n",
    "\n",
    "    grouped = grouped.mapValues(lambda x: [list(x[0])[0], list(x[1])])\n",
    "    # (data_id,\n",
    "    #   [\n",
    "    #       [data_id, ctrd_id, x1, x2],\n",
    "    #       [[ctrd_id, mean_x1, mean_x2]...]\n",
    "    #   ]\n",
    "    # )\n",
    "\n",
    "    grouped = grouped.mapValues(lambda x: [[x[1][i][0], np.linalg.norm(np.array(x[0][2:]) - np.array(x[1][i][1:]))] + x[0][2:] for i in range(len(x[1]))])\n",
    "    # (data_id, [[ctrd_id, dist, x1, x2]...])\n",
    "\n",
    "    grouped = grouped.mapValues(lambda x: min(x, key = lambda x: x[1]))\n",
    "    # (data_id, [ctrd_id, mindist, x1, x2])\n",
    "\n",
    "    rawdata = grouped.map(lambda x: [x[0], x[1][0]] + x[1][2:])\n",
    "    # [data_id, ctrd_id, x1, x2]\n",
    "\n",
    "    data = rawdata.collect()\n",
    "    data = zip(*data)\n",
    "    assnmt2 = dict(zip(data[0], data[1]))\n",
    "\n",
    "    changed = 0\n",
    "    for k in assnmt1.keys():\n",
    "        if assnmt1[k] != assnmt2[k]:\n",
    "            changed += 1\n",
    "\n",
    "    print 'Num of centroid assignment updates = %d' % changed\n",
    "    if changed == 0:\n",
    "        print 'No updates necessary...\\nFinished!'\n",
    "        break"
   ]
  },
  {
   "cell_type": "code",
   "execution_count": null,
   "metadata": {
    "collapsed": true
   },
   "outputs": [],
   "source": []
  }
 ],
 "metadata": {
  "kernelspec": {
   "display_name": "Python 2",
   "language": "python",
   "name": "python2"
  },
  "language_info": {
   "codemirror_mode": {
    "name": "ipython",
    "version": 2
   },
   "file_extension": ".py",
   "mimetype": "text/x-python",
   "name": "python",
   "nbconvert_exporter": "python",
   "pygments_lexer": "ipython2",
   "version": "2.7.12"
  }
 },
 "nbformat": 4,
 "nbformat_minor": 1
}
